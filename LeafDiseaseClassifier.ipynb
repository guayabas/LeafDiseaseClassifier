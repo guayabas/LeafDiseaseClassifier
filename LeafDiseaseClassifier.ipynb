{
 "cells": [
  {
   "cell_type": "code",
   "execution_count": 2,
   "metadata": {},
   "outputs": [
    {
     "name": "stdout",
     "output_type": "stream",
     "text": [
      "File at d:\\plant-pathology-2021-fgvc8\\train.csv contains 18632 rows\n"
     ]
    }
   ],
   "source": [
    "import pandas\n",
    "import os\n",
    "datadir = 'd:\\\\plant-pathology-2021-fgvc8\\\\'\n",
    "csvfile = os.path.join(datadir, 'train.csv')\n",
    "dataframes = pandas.read_csv(csvfile)\n",
    "print(\"File at {} contains {} rows\".format(csvfile, len(dataframes)))"
   ]
  }
 ],
 "metadata": {
  "kernelspec": {
   "display_name": "Python 3",
   "language": "python",
   "name": "python3"
  },
  "language_info": {
   "codemirror_mode": {
    "name": "ipython",
    "version": 3
   },
   "file_extension": ".py",
   "mimetype": "text/x-python",
   "name": "python",
   "nbconvert_exporter": "python",
   "pygments_lexer": "ipython3",
   "version": "3.12.6"
  }
 },
 "nbformat": 4,
 "nbformat_minor": 2
}
